{
 "cells": [
  {
   "cell_type": "markdown",
   "id": "24f9f28c",
   "metadata": {},
   "source": [
    "# Import Libraries & Data "
   ]
  },
  {
   "cell_type": "code",
   "execution_count": 2,
   "id": "199cbf11",
   "metadata": {},
   "outputs": [],
   "source": [
    "# import libraries\n",
    "import pandas as pd\n",
    "import numpy as np\n",
    "import os\n",
    "import matplotlib.pyplot as plt\n",
    "import seaborn as sns\n",
    "import scipy"
   ]
  },
  {
   "cell_type": "code",
   "execution_count": 3,
   "id": "e29e86df",
   "metadata": {},
   "outputs": [],
   "source": [
    "# establish path to project folder\n",
    "path = r'C:\\Users\\BrianDavis\\OneDrive - abetterchicago.org\\Documents\\Data Analysis\\Achievement 5 (Python)\\04-2023 Instacart Basket Analysis'"
   ]
  },
  {
   "cell_type": "code",
   "execution_count": 4,
   "id": "cbe060cf",
   "metadata": {},
   "outputs": [],
   "source": [
    "# import dataframe\n",
    "df = pd.read_pickle(os.path.join(path,'02 Data','Prepared Data','orders_products_customers.pkl'))"
   ]
  },
  {
   "cell_type": "markdown",
   "id": "f9d8d7f4",
   "metadata": {},
   "source": [
    "# Manipulate Data "
   ]
  },
  {
   "cell_type": "markdown",
   "id": "891698eb",
   "metadata": {},
   "source": [
    "### Step 2 - Consider any security implications that might exist for this new data. You’ll need to address any PII data in the data before continuing your analysis."
   ]
  },
  {
   "cell_type": "markdown",
   "id": "6644e2b0",
   "metadata": {},
   "source": [
    "#### Observation: there is personal identifying information (PII) in the form of customer first names and last names. This is particularly sensitive given the family size and income information attached to each individual, as this is very private information. I would flag this PII to my superviser to see how they would like me to handle it (including by deleting the first name and last name columns). Without this direction from my superviser, I don't know the preferred way to handle this information, and so I've left it in for purposes of this assignment.  "
   ]
  },
  {
   "cell_type": "markdown",
   "id": "6643151c",
   "metadata": {},
   "source": [
    "### Step 3 - The Instacart officers are interested in comparing customer behavior in different geographic areas. Create a regional segmentation of the data. You’ll need to create a “Region” column based on the “State” column from your customers data set."
   ]
  },
  {
   "cell_type": "code",
   "execution_count": 5,
   "id": "a8eb0bea",
   "metadata": {},
   "outputs": [],
   "source": [
    "#create a for-loop that creates a new column which sorts states into regions\n",
    "\n",
    "result = []\n",
    "for value in df['state']:\n",
    "    if value in ['Maine', 'New Hampshire', 'Vermont', 'Massachusetts', 'Rhode Island', 'Connecticut', 'New York', 'Pennsylvania', 'New Jersey']:\n",
    "        result.append(\"Northeast\")\n",
    "    elif value in ['Wisconsin', 'Michigan', 'Illinois', 'Indiana', 'Ohio', 'North Dakota', 'South Dakota', 'Nebraska', 'Kansas', 'Minnesota', 'Iowa', 'Missouri']:\n",
    "        result.append(\"Midwest\")\n",
    "    elif value in ['Idaho', 'Montana', 'Wyoming', 'Nevada', 'Utah', 'Colorado', 'Arizona', 'New Mexico', 'Alaska', 'Washington', 'Oregon', 'California', 'Hawaii']:\n",
    "        result.append(\"West\")\n",
    "    else: \n",
    "        result.append(\"South\")\n",
    "\n",
    "df['Region'] = result"
   ]
  },
  {
   "cell_type": "code",
   "execution_count": 6,
   "id": "79dd1cbb",
   "metadata": {},
   "outputs": [
    {
     "data": {
      "text/plain": [
       "South        10791885\n",
       "West          8292913\n",
       "Midwest       7597325\n",
       "Northeast     5722736\n",
       "Name: Region, dtype: int64"
      ]
     },
     "execution_count": 6,
     "metadata": {},
     "output_type": "execute_result"
    }
   ],
   "source": [
    "#check values of regions column\n",
    "df['Region'].value_counts()"
   ]
  },
  {
   "cell_type": "code",
   "execution_count": 7,
   "id": "22b6f755",
   "metadata": {},
   "outputs": [],
   "source": [
    "#create a crosstab variable to understand difference in spending habits across regions \n",
    "crosstab = pd.crosstab(df['Region'], df['spending flag'], dropna = False)"
   ]
  },
  {
   "cell_type": "code",
   "execution_count": 8,
   "id": "44ed2a99",
   "metadata": {},
   "outputs": [
    {
     "data": {
      "text/html": [
       "<div>\n",
       "<style scoped>\n",
       "    .dataframe tbody tr th:only-of-type {\n",
       "        vertical-align: middle;\n",
       "    }\n",
       "\n",
       "    .dataframe tbody tr th {\n",
       "        vertical-align: top;\n",
       "    }\n",
       "\n",
       "    .dataframe thead th {\n",
       "        text-align: right;\n",
       "    }\n",
       "</style>\n",
       "<table border=\"1\" class=\"dataframe\">\n",
       "  <thead>\n",
       "    <tr style=\"text-align: right;\">\n",
       "      <th>spending flag</th>\n",
       "      <th>High spender</th>\n",
       "      <th>Low spender</th>\n",
       "    </tr>\n",
       "    <tr>\n",
       "      <th>Region</th>\n",
       "      <th></th>\n",
       "      <th></th>\n",
       "    </tr>\n",
       "  </thead>\n",
       "  <tbody>\n",
       "    <tr>\n",
       "      <th>Midwest</th>\n",
       "      <td>29265</td>\n",
       "      <td>7568060</td>\n",
       "    </tr>\n",
       "    <tr>\n",
       "      <th>Northeast</th>\n",
       "      <td>18642</td>\n",
       "      <td>5704094</td>\n",
       "    </tr>\n",
       "    <tr>\n",
       "      <th>South</th>\n",
       "      <td>40564</td>\n",
       "      <td>10751321</td>\n",
       "    </tr>\n",
       "    <tr>\n",
       "      <th>West</th>\n",
       "      <td>31223</td>\n",
       "      <td>8261690</td>\n",
       "    </tr>\n",
       "  </tbody>\n",
       "</table>\n",
       "</div>"
      ],
      "text/plain": [
       "spending flag  High spender  Low spender\n",
       "Region                                  \n",
       "Midwest               29265      7568060\n",
       "Northeast             18642      5704094\n",
       "South                 40564     10751321\n",
       "West                  31223      8261690"
      ]
     },
     "execution_count": 8,
     "metadata": {},
     "output_type": "execute_result"
    }
   ],
   "source": [
    "#call crosstab variable\n",
    "crosstab"
   ]
  },
  {
   "cell_type": "markdown",
   "id": "fb0be47d",
   "metadata": {},
   "source": [
    "#### Observation: there doesn't appear to be a regional difference in spending habits between the different U.S. regions. There is the highest number of High spenders in the South region, followed by West, Midwest and Northeast, but the size is proportional to the number of customers in each region (ie the South has the greatest number of Low spenders as well, followed by West, Midwest and Northeast. "
   ]
  },
  {
   "cell_type": "markdown",
   "id": "9758e5e2",
   "metadata": {},
   "source": [
    "### Step 4 - The Instacart CFO isn’t interested in customers who don’t generate much revenue for the app. Create an exclusion flag for low-activity customers (customers with less than 5 orders) and exclude them from the data. Make sure you export this sample."
   ]
  },
  {
   "cell_type": "code",
   "execution_count": 9,
   "id": "06310cfc",
   "metadata": {},
   "outputs": [],
   "source": [
    "#create for loop that creates new column to flag for exclusion those customers with less than 5 orders\n",
    "result_2 = []\n",
    "for value in df['order_frequency']:\n",
    "    if value < 5:\n",
    "        result_2.append(\"Exclude\")\n",
    "    else:\n",
    "        result_2.append(\"Include\")\n",
    "\n",
    "df['frequency_exclusion'] = result_2"
   ]
  },
  {
   "cell_type": "code",
   "execution_count": 10,
   "id": "e3960b05",
   "metadata": {},
   "outputs": [
    {
     "data": {
      "text/plain": [
       "Include    27811929\n",
       "Exclude     4592930\n",
       "Name: frequency_exclusion, dtype: int64"
      ]
     },
     "execution_count": 10,
     "metadata": {},
     "output_type": "execute_result"
    }
   ],
   "source": [
    "#check values of new column\n",
    "df['frequency_exclusion'].value_counts()"
   ]
  },
  {
   "cell_type": "code",
   "execution_count": 14,
   "id": "417ac9bd",
   "metadata": {},
   "outputs": [],
   "source": [
    "#create new dataframe that excludes low frequency customers\n",
    "df_2 = df[df.frequency_exclusion == 'Include']"
   ]
  },
  {
   "cell_type": "markdown",
   "id": "fa5bc9bb",
   "metadata": {},
   "source": [
    "### Step 5 - The marketing and business strategy units at Instacart want to create more-relevant marketing strategies for different products and are, thus, curious about customer profiling in their database. Create a profiling variable based on age, income, certain goods in the “department_id” column, and number of dependents. "
   ]
  },
  {
   "cell_type": "code",
   "execution_count": 22,
   "id": "6ce4e99a",
   "metadata": {},
   "outputs": [
    {
     "name": "stderr",
     "output_type": "stream",
     "text": [
      "C:\\Users\\BrianDavis\\AppData\\Local\\Temp\\ipykernel_40872\\466362704.py:12: SettingWithCopyWarning: \n",
      "A value is trying to be set on a copy of a slice from a DataFrame.\n",
      "Try using .loc[row_indexer,col_indexer] = value instead\n",
      "\n",
      "See the caveats in the documentation: https://pandas.pydata.org/pandas-docs/stable/user_guide/indexing.html#returning-a-view-versus-a-copy\n",
      "  df_2['Profile_Age'] = result_3\n"
     ]
    }
   ],
   "source": [
    "#create age flag\n",
    "result_3 = []\n",
    "\n",
    "for value in df_2['age']:\n",
    "    if value <= 35:\n",
    "        result_3.append('Young Adult')\n",
    "    elif value <= 65:\n",
    "        result_3.append('Middle Age')\n",
    "    else:\n",
    "        result_3.append('Older')\n",
    "\n",
    "df_2['Profile_Age'] = result_3"
   ]
  },
  {
   "cell_type": "code",
   "execution_count": 19,
   "id": "d3f499b0",
   "metadata": {},
   "outputs": [
    {
     "data": {
      "text/plain": [
       "Middle Age      13017446\n",
       "Young Adults     7866318\n",
       "Older            6928165\n",
       "Name: Profile_Age, dtype: int64"
      ]
     },
     "execution_count": 19,
     "metadata": {},
     "output_type": "execute_result"
    }
   ],
   "source": [
    "#check values of age flag\n",
    "df_2['Profile_Age'].value_counts()"
   ]
  },
  {
   "cell_type": "code",
   "execution_count": 35,
   "id": "032a92bb",
   "metadata": {},
   "outputs": [
    {
     "name": "stderr",
     "output_type": "stream",
     "text": [
      "C:\\Users\\BrianDavis\\AppData\\Local\\Temp\\ipykernel_40872\\420644328.py:12: SettingWithCopyWarning: \n",
      "A value is trying to be set on a copy of a slice from a DataFrame.\n",
      "Try using .loc[row_indexer,col_indexer] = value instead\n",
      "\n",
      "See the caveats in the documentation: https://pandas.pydata.org/pandas-docs/stable/user_guide/indexing.html#returning-a-view-versus-a-copy\n",
      "  df_2['Profile_Income'] = result_4\n"
     ]
    }
   ],
   "source": [
    "#create income flag\n",
    "result_4 = []\n",
    "\n",
    "for value in df_2['income']:\n",
    "    if value <= 100000:\n",
    "        result_4.append('Low Income')\n",
    "    elif value <= 200000:\n",
    "        result_4.append('Middle Income')\n",
    "    else:\n",
    "        result_4.append('High Income')\n",
    "\n",
    "df_2['Profile_Income'] = result_4"
   ]
  },
  {
   "cell_type": "code",
   "execution_count": 36,
   "id": "3ff9bfe7",
   "metadata": {},
   "outputs": [
    {
     "data": {
      "text/plain": [
       "Low Income       15142496\n",
       "Middle Income    12456613\n",
       "High Income        212820\n",
       "Name: Profile_Income, dtype: int64"
      ]
     },
     "execution_count": 36,
     "metadata": {},
     "output_type": "execute_result"
    }
   ],
   "source": [
    "#check values of income flag\n",
    "df_2['Profile_Income'].value_counts()"
   ]
  },
  {
   "cell_type": "code",
   "execution_count": 26,
   "id": "d62acd42",
   "metadata": {},
   "outputs": [
    {
     "name": "stderr",
     "output_type": "stream",
     "text": [
      "C:\\Users\\BrianDavis\\AppData\\Local\\Temp\\ipykernel_40872\\3485773763.py:10: SettingWithCopyWarning: \n",
      "A value is trying to be set on a copy of a slice from a DataFrame.\n",
      "Try using .loc[row_indexer,col_indexer] = value instead\n",
      "\n",
      "See the caveats in the documentation: https://pandas.pydata.org/pandas-docs/stable/user_guide/indexing.html#returning-a-view-versus-a-copy\n",
      "  df_2['Profile_Dependants'] = result_5\n"
     ]
    }
   ],
   "source": [
    "#create dependants flag\n",
    "result_5 = []\n",
    "\n",
    "for value in df_2['n_dependants']:\n",
    "    if value == 0:\n",
    "        result_5.append('No Kids')\n",
    "    else:\n",
    "        result_5.append('Parent')\n",
    "\n",
    "df_2['Profile_Dependants'] = result_5"
   ]
  },
  {
   "cell_type": "code",
   "execution_count": 27,
   "id": "d428be40",
   "metadata": {},
   "outputs": [
    {
     "data": {
      "text/plain": [
       "Parent     20876495\n",
       "No Kids     6935434\n",
       "Name: Profile_Dependants, dtype: int64"
      ]
     },
     "execution_count": 27,
     "metadata": {},
     "output_type": "execute_result"
    }
   ],
   "source": [
    "#check values of dependents flag\n",
    "df_2['Profile_Dependants'].value_counts()"
   ]
  },
  {
   "cell_type": "code",
   "execution_count": 28,
   "id": "c578d7db",
   "metadata": {},
   "outputs": [
    {
     "name": "stderr",
     "output_type": "stream",
     "text": [
      "C:\\Users\\BrianDavis\\AppData\\Local\\Temp\\ipykernel_40872\\3921661287.py:10: SettingWithCopyWarning: \n",
      "A value is trying to be set on a copy of a slice from a DataFrame.\n",
      "Try using .loc[row_indexer,col_indexer] = value instead\n",
      "\n",
      "See the caveats in the documentation: https://pandas.pydata.org/pandas-docs/stable/user_guide/indexing.html#returning-a-view-versus-a-copy\n",
      "  df_2['Profile_foodbev'] = result_6\n"
     ]
    }
   ],
   "source": [
    "#create flag for purchases of food & beverages versus other (depts 2, 8, 11, 17 and 18 represent \"other\")\n",
    "result_6 = []\n",
    "\n",
    "for value in df_2['department_id']:\n",
    "    if value in [2, 8, 11, 17, 18]:\n",
    "        result_6.append('non_food_bev')\n",
    "    else:\n",
    "        result_6.append('food_bev')\n",
    "\n",
    "df_2['Profile_foodbev'] = result_6"
   ]
  },
  {
   "cell_type": "code",
   "execution_count": 29,
   "id": "edb8e0da",
   "metadata": {},
   "outputs": [
    {
     "data": {
      "text/plain": [
       "food_bev        26317073\n",
       "non_food_bev     1494856\n",
       "Name: Profile_foodbev, dtype: int64"
      ]
     },
     "execution_count": 29,
     "metadata": {},
     "output_type": "execute_result"
    }
   ],
   "source": [
    "df_2['Profile_foodbev'].value_counts()"
   ]
  },
  {
   "cell_type": "markdown",
   "id": "d2c905e0",
   "metadata": {},
   "source": [
    "### Step 6 - Create an appropriate visualization to show the distribution of profiles."
   ]
  },
  {
   "cell_type": "markdown",
   "id": "16f33d3b",
   "metadata": {},
   "source": [
    "#### Age Profiles"
   ]
  },
  {
   "cell_type": "code",
   "execution_count": 30,
   "id": "fa1c0220",
   "metadata": {},
   "outputs": [
    {
     "data": {
      "text/plain": [
       "<Axes: >"
      ]
     },
     "execution_count": 30,
     "metadata": {},
     "output_type": "execute_result"
    },
    {
     "data": {
      "image/png": "[encoded data removed]",
      "text/plain": [
       "<Figure size 640x480 with 1 Axes>"
      ]
     },
     "metadata": {},
     "output_type": "display_data"
    }
   ],
   "source": [
    "bar = df_2['Profile_Age'].value_counts().plot.bar()"
   ]
  },
  {
   "cell_type": "markdown",
   "id": "120866a8",
   "metadata": {},
   "source": [
    "#### Income Profiles"
   ]
  },
  {
   "cell_type": "code",
   "execution_count": 37,
   "id": "0c3a3a06",
   "metadata": {},
   "outputs": [
    {
     "data": {
      "image/png": "[encoded data removed]",
      "text/plain": [
       "<Figure size 640x480 with 1 Axes>"
      ]
     },
     "metadata": {},
     "output_type": "display_data"
    }
   ],
   "source": [
    "bar = df_2['Profile_Age'].value_counts().plot.bar()"
   ]
  },
  {
   "cell_type": "markdown",
   "id": "c347bb91",
   "metadata": {},
   "source": [
    "#### Dependants Profiles"
   ]
  },
  {
   "cell_type": "code",
   "execution_count": 38,
   "id": "ad5a5b02",
   "metadata": {},
   "outputs": [
    {
     "data": {
      "image/png": "[encoded data removed]",
      "text/plain": [
       "<Figure size 640x480 with 1 Axes>"
      ]
     },
     "metadata": {},
     "output_type": "display_data"
    }
   ],
   "source": [
    "bar = df_2['Profile_Dependants'].value_counts().plot.bar()"
   ]
  },
  {
   "cell_type": "markdown",
   "id": "71508a28",
   "metadata": {},
   "source": [
    "#### Profiles of Purchases of Food & Beverages"
   ]
  },
  {
   "cell_type": "code",
   "execution_count": 39,
   "id": "e63b98fb",
   "metadata": {},
   "outputs": [
    {
     "data": {
      "image/png": "[encoded data removed]",
      "text/plain": [
       "<Figure size 640x480 with 1 Axes>"
      ]
     },
     "metadata": {},
     "output_type": "display_data"
    }
   ],
   "source": [
    "bar = df_2['Profile_foodbev'].value_counts().plot.bar()"
   ]
  },
  {
   "cell_type": "markdown",
   "id": "52d2ba3d",
   "metadata": {},
   "source": [
    "### Step 7 - Aggregate the max, mean, and min variables on a customer-profile level for usage frequency and expenditure."
   ]
  },
  {
   "cell_type": "code",
   "execution_count": 44,
   "id": "6c9bf9a8",
   "metadata": {},
   "outputs": [
    {
     "data": {
      "text/html": [
       "<div>\n",
       "<style scoped>\n",
       "    .dataframe tbody tr th:only-of-type {\n",
       "        vertical-align: middle;\n",
       "    }\n",
       "\n",
       "    .dataframe tbody tr th {\n",
       "        vertical-align: top;\n",
       "    }\n",
       "\n",
       "    .dataframe thead tr th {\n",
       "        text-align: left;\n",
       "    }\n",
       "\n",
       "    .dataframe thead tr:last-of-type th {\n",
       "        text-align: right;\n",
       "    }\n",
       "</style>\n",
       "<table border=\"1\" class=\"dataframe\">\n",
       "  <thead>\n",
       "    <tr>\n",
       "      <th></th>\n",
       "      <th colspan=\"3\" halign=\"left\">order_frequency</th>\n",
       "    </tr>\n",
       "    <tr>\n",
       "      <th></th>\n",
       "      <th>mean</th>\n",
       "      <th>min</th>\n",
       "      <th>max</th>\n",
       "    </tr>\n",
       "    <tr>\n",
       "      <th>Profile_Age</th>\n",
       "      <th></th>\n",
       "      <th></th>\n",
       "      <th></th>\n",
       "    </tr>\n",
       "  </thead>\n",
       "  <tbody>\n",
       "    <tr>\n",
       "      <th>Middle Age</th>\n",
       "      <td>11.583867</td>\n",
       "      <td>5.0</td>\n",
       "      <td>30.0</td>\n",
       "    </tr>\n",
       "    <tr>\n",
       "      <th>Older</th>\n",
       "      <td>11.542534</td>\n",
       "      <td>5.0</td>\n",
       "      <td>30.0</td>\n",
       "    </tr>\n",
       "    <tr>\n",
       "      <th>Young Adult</th>\n",
       "      <td>11.569361</td>\n",
       "      <td>5.0</td>\n",
       "      <td>30.0</td>\n",
       "    </tr>\n",
       "  </tbody>\n",
       "</table>\n",
       "</div>"
      ],
      "text/plain": [
       "            order_frequency           \n",
       "                       mean  min   max\n",
       "Profile_Age                           \n",
       "Middle Age        11.583867  5.0  30.0\n",
       "Older             11.542534  5.0  30.0\n",
       "Young Adult       11.569361  5.0  30.0"
      ]
     },
     "execution_count": 44,
     "metadata": {},
     "output_type": "execute_result"
    }
   ],
   "source": [
    "#average, minimum and maximum order frequency by customer age\n",
    "df_2.groupby('Profile_Age').agg({'order_frequency': ['mean', 'min', 'max']})"
   ]
  },
  {
   "cell_type": "code",
   "execution_count": 45,
   "id": "f7dd29ba",
   "metadata": {},
   "outputs": [
    {
     "data": {
      "text/html": [
       "<div>\n",
       "<style scoped>\n",
       "    .dataframe tbody tr th:only-of-type {\n",
       "        vertical-align: middle;\n",
       "    }\n",
       "\n",
       "    .dataframe tbody tr th {\n",
       "        vertical-align: top;\n",
       "    }\n",
       "\n",
       "    .dataframe thead tr th {\n",
       "        text-align: left;\n",
       "    }\n",
       "\n",
       "    .dataframe thead tr:last-of-type th {\n",
       "        text-align: right;\n",
       "    }\n",
       "</style>\n",
       "<table border=\"1\" class=\"dataframe\">\n",
       "  <thead>\n",
       "    <tr>\n",
       "      <th></th>\n",
       "      <th colspan=\"3\" halign=\"left\">order_frequency</th>\n",
       "    </tr>\n",
       "    <tr>\n",
       "      <th></th>\n",
       "      <th>mean</th>\n",
       "      <th>min</th>\n",
       "      <th>max</th>\n",
       "    </tr>\n",
       "    <tr>\n",
       "      <th>Profile_Income</th>\n",
       "      <th></th>\n",
       "      <th></th>\n",
       "      <th></th>\n",
       "    </tr>\n",
       "  </thead>\n",
       "  <tbody>\n",
       "    <tr>\n",
       "      <th>High Income</th>\n",
       "      <td>10.476158</td>\n",
       "      <td>5.0</td>\n",
       "      <td>30.0</td>\n",
       "    </tr>\n",
       "    <tr>\n",
       "      <th>Low Income</th>\n",
       "      <td>11.651829</td>\n",
       "      <td>5.0</td>\n",
       "      <td>30.0</td>\n",
       "    </tr>\n",
       "    <tr>\n",
       "      <th>Middle Income</th>\n",
       "      <td>11.488027</td>\n",
       "      <td>5.0</td>\n",
       "      <td>30.0</td>\n",
       "    </tr>\n",
       "  </tbody>\n",
       "</table>\n",
       "</div>"
      ],
      "text/plain": [
       "               order_frequency           \n",
       "                          mean  min   max\n",
       "Profile_Income                           \n",
       "High Income          10.476158  5.0  30.0\n",
       "Low Income           11.651829  5.0  30.0\n",
       "Middle Income        11.488027  5.0  30.0"
      ]
     },
     "execution_count": 45,
     "metadata": {},
     "output_type": "execute_result"
    }
   ],
   "source": [
    "#average, minimum and maximum order frequency by customer income\n",
    "df_2.groupby('Profile_Income').agg({'order_frequency': ['mean', 'min', 'max']})"
   ]
  },
  {
   "cell_type": "code",
   "execution_count": 46,
   "id": "f2f6e855",
   "metadata": {},
   "outputs": [
    {
     "data": {
      "text/html": [
       "<div>\n",
       "<style scoped>\n",
       "    .dataframe tbody tr th:only-of-type {\n",
       "        vertical-align: middle;\n",
       "    }\n",
       "\n",
       "    .dataframe tbody tr th {\n",
       "        vertical-align: top;\n",
       "    }\n",
       "\n",
       "    .dataframe thead tr th {\n",
       "        text-align: left;\n",
       "    }\n",
       "\n",
       "    .dataframe thead tr:last-of-type th {\n",
       "        text-align: right;\n",
       "    }\n",
       "</style>\n",
       "<table border=\"1\" class=\"dataframe\">\n",
       "  <thead>\n",
       "    <tr>\n",
       "      <th></th>\n",
       "      <th colspan=\"3\" halign=\"left\">order_frequency</th>\n",
       "    </tr>\n",
       "    <tr>\n",
       "      <th></th>\n",
       "      <th>mean</th>\n",
       "      <th>min</th>\n",
       "      <th>max</th>\n",
       "    </tr>\n",
       "    <tr>\n",
       "      <th>Profile_Dependants</th>\n",
       "      <th></th>\n",
       "      <th></th>\n",
       "      <th></th>\n",
       "    </tr>\n",
       "  </thead>\n",
       "  <tbody>\n",
       "    <tr>\n",
       "      <th>No Kids</th>\n",
       "      <td>11.553836</td>\n",
       "      <td>5.0</td>\n",
       "      <td>30.0</td>\n",
       "    </tr>\n",
       "    <tr>\n",
       "      <th>Parent</th>\n",
       "      <td>11.574661</td>\n",
       "      <td>5.0</td>\n",
       "      <td>30.0</td>\n",
       "    </tr>\n",
       "  </tbody>\n",
       "</table>\n",
       "</div>"
      ],
      "text/plain": [
       "                   order_frequency           \n",
       "                              mean  min   max\n",
       "Profile_Dependants                           \n",
       "No Kids                  11.553836  5.0  30.0\n",
       "Parent                   11.574661  5.0  30.0"
      ]
     },
     "execution_count": 46,
     "metadata": {},
     "output_type": "execute_result"
    }
   ],
   "source": [
    "#average, minimum and maximum order frequency by customer's number of dependants\n",
    "df_2.groupby('Profile_Dependants').agg({'order_frequency': ['mean', 'min', 'max']})"
   ]
  },
  {
   "cell_type": "code",
   "execution_count": 47,
   "id": "19f6525d",
   "metadata": {},
   "outputs": [
    {
     "data": {
      "text/html": [
       "<div>\n",
       "<style scoped>\n",
       "    .dataframe tbody tr th:only-of-type {\n",
       "        vertical-align: middle;\n",
       "    }\n",
       "\n",
       "    .dataframe tbody tr th {\n",
       "        vertical-align: top;\n",
       "    }\n",
       "\n",
       "    .dataframe thead tr th {\n",
       "        text-align: left;\n",
       "    }\n",
       "\n",
       "    .dataframe thead tr:last-of-type th {\n",
       "        text-align: right;\n",
       "    }\n",
       "</style>\n",
       "<table border=\"1\" class=\"dataframe\">\n",
       "  <thead>\n",
       "    <tr>\n",
       "      <th></th>\n",
       "      <th colspan=\"3\" halign=\"left\">order_frequency</th>\n",
       "    </tr>\n",
       "    <tr>\n",
       "      <th></th>\n",
       "      <th>mean</th>\n",
       "      <th>min</th>\n",
       "      <th>max</th>\n",
       "    </tr>\n",
       "    <tr>\n",
       "      <th>Profile_foodbev</th>\n",
       "      <th></th>\n",
       "      <th></th>\n",
       "      <th></th>\n",
       "    </tr>\n",
       "  </thead>\n",
       "  <tbody>\n",
       "    <tr>\n",
       "      <th>food_bev</th>\n",
       "      <td>11.550201</td>\n",
       "      <td>5.0</td>\n",
       "      <td>30.0</td>\n",
       "    </tr>\n",
       "    <tr>\n",
       "      <th>non_food_bev</th>\n",
       "      <td>11.908674</td>\n",
       "      <td>5.0</td>\n",
       "      <td>30.0</td>\n",
       "    </tr>\n",
       "  </tbody>\n",
       "</table>\n",
       "</div>"
      ],
      "text/plain": [
       "                order_frequency           \n",
       "                           mean  min   max\n",
       "Profile_foodbev                           \n",
       "food_bev              11.550201  5.0  30.0\n",
       "non_food_bev          11.908674  5.0  30.0"
      ]
     },
     "execution_count": 47,
     "metadata": {},
     "output_type": "execute_result"
    }
   ],
   "source": [
    "#average, minimum and maximum order frequency by food & beverage vs. non-food & beverages orders\n",
    "df_2.groupby('Profile_foodbev').agg({'order_frequency': ['mean', 'min', 'max']})"
   ]
  },
  {
   "cell_type": "code",
   "execution_count": 48,
   "id": "44a4ea89",
   "metadata": {},
   "outputs": [
    {
     "data": {
      "text/html": [
       "<div>\n",
       "<style scoped>\n",
       "    .dataframe tbody tr th:only-of-type {\n",
       "        vertical-align: middle;\n",
       "    }\n",
       "\n",
       "    .dataframe tbody tr th {\n",
       "        vertical-align: top;\n",
       "    }\n",
       "\n",
       "    .dataframe thead tr th {\n",
       "        text-align: left;\n",
       "    }\n",
       "\n",
       "    .dataframe thead tr:last-of-type th {\n",
       "        text-align: right;\n",
       "    }\n",
       "</style>\n",
       "<table border=\"1\" class=\"dataframe\">\n",
       "  <thead>\n",
       "    <tr>\n",
       "      <th></th>\n",
       "      <th colspan=\"3\" halign=\"left\">prices</th>\n",
       "    </tr>\n",
       "    <tr>\n",
       "      <th></th>\n",
       "      <th>mean</th>\n",
       "      <th>min</th>\n",
       "      <th>max</th>\n",
       "    </tr>\n",
       "    <tr>\n",
       "      <th>Profile_Age</th>\n",
       "      <th></th>\n",
       "      <th></th>\n",
       "      <th></th>\n",
       "    </tr>\n",
       "  </thead>\n",
       "  <tbody>\n",
       "    <tr>\n",
       "      <th>Middle Age</th>\n",
       "      <td>7.790436</td>\n",
       "      <td>1.0</td>\n",
       "      <td>25.0</td>\n",
       "    </tr>\n",
       "    <tr>\n",
       "      <th>Older</th>\n",
       "      <td>7.792456</td>\n",
       "      <td>1.0</td>\n",
       "      <td>25.0</td>\n",
       "    </tr>\n",
       "    <tr>\n",
       "      <th>Young Adult</th>\n",
       "      <td>7.782905</td>\n",
       "      <td>1.0</td>\n",
       "      <td>25.0</td>\n",
       "    </tr>\n",
       "  </tbody>\n",
       "</table>\n",
       "</div>"
      ],
      "text/plain": [
       "               prices           \n",
       "                 mean  min   max\n",
       "Profile_Age                     \n",
       "Middle Age   7.790436  1.0  25.0\n",
       "Older        7.792456  1.0  25.0\n",
       "Young Adult  7.782905  1.0  25.0"
      ]
     },
     "execution_count": 48,
     "metadata": {},
     "output_type": "execute_result"
    }
   ],
   "source": [
    "#average, minimum and maximum prices by customer age\n",
    "df_2.groupby('Profile_Age').agg({'prices': ['mean', 'min', 'max']})"
   ]
  },
  {
   "cell_type": "code",
   "execution_count": 49,
   "id": "7a41a5dd",
   "metadata": {},
   "outputs": [
    {
     "data": {
      "text/html": [
       "<div>\n",
       "<style scoped>\n",
       "    .dataframe tbody tr th:only-of-type {\n",
       "        vertical-align: middle;\n",
       "    }\n",
       "\n",
       "    .dataframe tbody tr th {\n",
       "        vertical-align: top;\n",
       "    }\n",
       "\n",
       "    .dataframe thead tr th {\n",
       "        text-align: left;\n",
       "    }\n",
       "\n",
       "    .dataframe thead tr:last-of-type th {\n",
       "        text-align: right;\n",
       "    }\n",
       "</style>\n",
       "<table border=\"1\" class=\"dataframe\">\n",
       "  <thead>\n",
       "    <tr>\n",
       "      <th></th>\n",
       "      <th colspan=\"3\" halign=\"left\">prices</th>\n",
       "    </tr>\n",
       "    <tr>\n",
       "      <th></th>\n",
       "      <th>mean</th>\n",
       "      <th>min</th>\n",
       "      <th>max</th>\n",
       "    </tr>\n",
       "    <tr>\n",
       "      <th>Profile_Income</th>\n",
       "      <th></th>\n",
       "      <th></th>\n",
       "      <th></th>\n",
       "    </tr>\n",
       "  </thead>\n",
       "  <tbody>\n",
       "    <tr>\n",
       "      <th>High Income</th>\n",
       "      <td>7.714019</td>\n",
       "      <td>1.0</td>\n",
       "      <td>25.0</td>\n",
       "    </tr>\n",
       "    <tr>\n",
       "      <th>Low Income</th>\n",
       "      <td>7.644464</td>\n",
       "      <td>1.0</td>\n",
       "      <td>25.0</td>\n",
       "    </tr>\n",
       "    <tr>\n",
       "      <th>Middle Income</th>\n",
       "      <td>7.965555</td>\n",
       "      <td>1.0</td>\n",
       "      <td>25.0</td>\n",
       "    </tr>\n",
       "  </tbody>\n",
       "</table>\n",
       "</div>"
      ],
      "text/plain": [
       "                  prices           \n",
       "                    mean  min   max\n",
       "Profile_Income                     \n",
       "High Income     7.714019  1.0  25.0\n",
       "Low Income      7.644464  1.0  25.0\n",
       "Middle Income   7.965555  1.0  25.0"
      ]
     },
     "execution_count": 49,
     "metadata": {},
     "output_type": "execute_result"
    }
   ],
   "source": [
    "#average, minimum and maximum prices by customer income\n",
    "df_2.groupby('Profile_Income').agg({'prices': ['mean', 'min', 'max']})"
   ]
  },
  {
   "cell_type": "code",
   "execution_count": 50,
   "id": "891deab7",
   "metadata": {},
   "outputs": [
    {
     "data": {
      "text/html": [
       "<div>\n",
       "<style scoped>\n",
       "    .dataframe tbody tr th:only-of-type {\n",
       "        vertical-align: middle;\n",
       "    }\n",
       "\n",
       "    .dataframe tbody tr th {\n",
       "        vertical-align: top;\n",
       "    }\n",
       "\n",
       "    .dataframe thead tr th {\n",
       "        text-align: left;\n",
       "    }\n",
       "\n",
       "    .dataframe thead tr:last-of-type th {\n",
       "        text-align: right;\n",
       "    }\n",
       "</style>\n",
       "<table border=\"1\" class=\"dataframe\">\n",
       "  <thead>\n",
       "    <tr>\n",
       "      <th></th>\n",
       "      <th colspan=\"3\" halign=\"left\">prices</th>\n",
       "    </tr>\n",
       "    <tr>\n",
       "      <th></th>\n",
       "      <th>mean</th>\n",
       "      <th>min</th>\n",
       "      <th>max</th>\n",
       "    </tr>\n",
       "    <tr>\n",
       "      <th>Profile_Dependants</th>\n",
       "      <th></th>\n",
       "      <th></th>\n",
       "      <th></th>\n",
       "    </tr>\n",
       "  </thead>\n",
       "  <tbody>\n",
       "    <tr>\n",
       "      <th>No Kids</th>\n",
       "      <td>7.787369</td>\n",
       "      <td>1.0</td>\n",
       "      <td>25.0</td>\n",
       "    </tr>\n",
       "    <tr>\n",
       "      <th>Parent</th>\n",
       "      <td>7.789288</td>\n",
       "      <td>1.0</td>\n",
       "      <td>25.0</td>\n",
       "    </tr>\n",
       "  </tbody>\n",
       "</table>\n",
       "</div>"
      ],
      "text/plain": [
       "                      prices           \n",
       "                        mean  min   max\n",
       "Profile_Dependants                     \n",
       "No Kids             7.787369  1.0  25.0\n",
       "Parent              7.789288  1.0  25.0"
      ]
     },
     "execution_count": 50,
     "metadata": {},
     "output_type": "execute_result"
    }
   ],
   "source": [
    "#average, minimum and maximum prices by customer's number of dependants\n",
    "df_2.groupby('Profile_Dependants').agg({'prices': ['mean', 'min', 'max']})"
   ]
  },
  {
   "cell_type": "code",
   "execution_count": 51,
   "id": "1268b366",
   "metadata": {},
   "outputs": [
    {
     "data": {
      "text/html": [
       "<div>\n",
       "<style scoped>\n",
       "    .dataframe tbody tr th:only-of-type {\n",
       "        vertical-align: middle;\n",
       "    }\n",
       "\n",
       "    .dataframe tbody tr th {\n",
       "        vertical-align: top;\n",
       "    }\n",
       "\n",
       "    .dataframe thead tr th {\n",
       "        text-align: left;\n",
       "    }\n",
       "\n",
       "    .dataframe thead tr:last-of-type th {\n",
       "        text-align: right;\n",
       "    }\n",
       "</style>\n",
       "<table border=\"1\" class=\"dataframe\">\n",
       "  <thead>\n",
       "    <tr>\n",
       "      <th></th>\n",
       "      <th colspan=\"3\" halign=\"left\">prices</th>\n",
       "    </tr>\n",
       "    <tr>\n",
       "      <th></th>\n",
       "      <th>mean</th>\n",
       "      <th>min</th>\n",
       "      <th>max</th>\n",
       "    </tr>\n",
       "    <tr>\n",
       "      <th>Profile_foodbev</th>\n",
       "      <th></th>\n",
       "      <th></th>\n",
       "      <th></th>\n",
       "    </tr>\n",
       "  </thead>\n",
       "  <tbody>\n",
       "    <tr>\n",
       "      <th>food_bev</th>\n",
       "      <td>7.798145</td>\n",
       "      <td>1.0</td>\n",
       "      <td>25.0</td>\n",
       "    </tr>\n",
       "    <tr>\n",
       "      <th>non_food_bev</th>\n",
       "      <td>7.624451</td>\n",
       "      <td>1.0</td>\n",
       "      <td>15.0</td>\n",
       "    </tr>\n",
       "  </tbody>\n",
       "</table>\n",
       "</div>"
      ],
      "text/plain": [
       "                   prices           \n",
       "                     mean  min   max\n",
       "Profile_foodbev                     \n",
       "food_bev         7.798145  1.0  25.0\n",
       "non_food_bev     7.624451  1.0  15.0"
      ]
     },
     "execution_count": 51,
     "metadata": {},
     "output_type": "execute_result"
    }
   ],
   "source": [
    "#average, minimum and maximum prices by food & beverage vs. non-food & beverages orders\n",
    "df_2.groupby('Profile_foodbev').agg({'prices': ['mean', 'min', 'max']})"
   ]
  },
  {
   "cell_type": "markdown",
   "id": "9f2947e2",
   "metadata": {},
   "source": [
    "### Step 8 - Compare your customer profiles with regions and departments. Can you identify a link between them? Customers may demonstrate different behaviors across regions, which could make this information important."
   ]
  },
  {
   "cell_type": "markdown",
   "id": "1d542598",
   "metadata": {},
   "source": [
    "#### Crosstabs between customer profiles and region"
   ]
  },
  {
   "cell_type": "code",
   "execution_count": 54,
   "id": "da6fdc20",
   "metadata": {},
   "outputs": [],
   "source": [
    "#create crosstab to analyze income by region \n",
    "cross_inc_reg = pd.crosstab(df_2['Region'], df_2['Profile_Income'], dropna = False)"
   ]
  },
  {
   "cell_type": "code",
   "execution_count": 56,
   "id": "e411b7de",
   "metadata": {
    "scrolled": true
   },
   "outputs": [
    {
     "data": {
      "image/png": "[encoded data removed]",
      "text/plain": [
       "<Figure size 640x480 with 1 Axes>"
      ]
     },
     "metadata": {},
     "output_type": "display_data"
    }
   ],
   "source": [
    "#visualize results\n",
    "bar_inc_reg = cross_inc_reg.plot.bar()"
   ]
  },
  {
   "cell_type": "markdown",
   "id": "10d4b9fc",
   "metadata": {},
   "source": [
    "#### Observations: there is a slightly higher proportion of low income customers in the South region as compared to the Northeast and Midwest. "
   ]
  },
  {
   "cell_type": "code",
   "execution_count": 57,
   "id": "f098f20b",
   "metadata": {},
   "outputs": [],
   "source": [
    "#create crosstab to analyze age by region \n",
    "cross_age_reg = pd.crosstab(df_2['Region'], df_2['Profile_Age'], dropna = False)"
   ]
  },
  {
   "cell_type": "code",
   "execution_count": 58,
   "id": "fb73e56a",
   "metadata": {
    "scrolled": true
   },
   "outputs": [
    {
     "data": {
      "image/png": "[encoded data removed]",
      "text/plain": [
       "<Figure size 640x480 with 1 Axes>"
      ]
     },
     "metadata": {},
     "output_type": "display_data"
    }
   ],
   "source": [
    "#visualize results\n",
    "bar_age_reg = cross_age_reg.plot.bar()"
   ]
  },
  {
   "cell_type": "markdown",
   "id": "1cc9f506",
   "metadata": {},
   "source": [
    "#### Observations: there is a similar distribution of customers' ages across regions; there is a slightly higher proportion of young adults in the South region as compared to the Northeast and Midwest.  "
   ]
  },
  {
   "cell_type": "code",
   "execution_count": 59,
   "id": "3b2f31c3",
   "metadata": {},
   "outputs": [],
   "source": [
    "#create crosstab to analyze family status by region \n",
    "cross_dep_reg = pd.crosstab(df_2['Region'], df_2['Profile_Dependants'], dropna = False)"
   ]
  },
  {
   "cell_type": "code",
   "execution_count": 60,
   "id": "11a79da8",
   "metadata": {
    "scrolled": true
   },
   "outputs": [
    {
     "data": {
      "image/png": "[encoded data removed]",
      "text/plain": [
       "<Figure size 640x480 with 1 Axes>"
      ]
     },
     "metadata": {},
     "output_type": "display_data"
    }
   ],
   "source": [
    "#visualize results\n",
    "bar_dep_reg = cross_dep_reg.plot.bar()"
   ]
  },
  {
   "cell_type": "markdown",
   "id": "11ffae40",
   "metadata": {},
   "source": [
    "#### Observation: there is a similar distribution of family status (as defined as whether a customer has dependants or not) across regions"
   ]
  },
  {
   "cell_type": "code",
   "execution_count": 61,
   "id": "b5703f00",
   "metadata": {},
   "outputs": [],
   "source": [
    "#create crosstab to analyze purchases of food & beverage vs non-food & beverage items \n",
    "cross_fb_reg = pd.crosstab(df_2['Region'], df_2['Profile_foodbev'], dropna = False)"
   ]
  },
  {
   "cell_type": "code",
   "execution_count": 62,
   "id": "44ec93e6",
   "metadata": {},
   "outputs": [
    {
     "data": {
      "image/png": "[encoded data removed]",
      "text/plain": [
       "<Figure size 640x480 with 1 Axes>"
      ]
     },
     "metadata": {},
     "output_type": "display_data"
    }
   ],
   "source": [
    "#visualize results\n",
    "bar_fb_reg = cross_fb_reg.plot.bar()"
   ]
  },
  {
   "cell_type": "markdown",
   "id": "089cc744",
   "metadata": {},
   "source": [
    "#### Observation: there is a similar distribution of purchases of food and beverage items versus non-food and beverage items across regions"
   ]
  },
  {
   "cell_type": "markdown",
   "id": "0226197a",
   "metadata": {},
   "source": [
    "#### Crosstabs between customer profiles and departments"
   ]
  },
  {
   "cell_type": "code",
   "execution_count": 63,
   "id": "e9e8a42c",
   "metadata": {},
   "outputs": [],
   "source": [
    "#create crosstab to analyze income by department\n",
    "cross_inc_dep = pd.crosstab(df_2['department_id'], df_2['Profile_Income'], dropna = False)"
   ]
  },
  {
   "cell_type": "code",
   "execution_count": 64,
   "id": "e776a352",
   "metadata": {},
   "outputs": [
    {
     "data": {
      "image/png": "[encoded data removed]",
      "text/plain": [
       "<Figure size 640x480 with 1 Axes>"
      ]
     },
     "metadata": {},
     "output_type": "display_data"
    }
   ],
   "source": [
    "#visualize results\n",
    "bar_inc_dep = cross_inc_dep.plot.bar()"
   ]
  },
  {
   "cell_type": "markdown",
   "id": "0117c466",
   "metadata": {},
   "source": [
    "#### Observations: low income customers represent a higher proportion of purchases of snacks (dept 19), beverages (7) and produce (4); middle income customers purchase items for babies (18) and meat / seafood (12) at a similar magnitude as low income customers. "
   ]
  },
  {
   "cell_type": "code",
   "execution_count": 65,
   "id": "3fa8ba59",
   "metadata": {},
   "outputs": [],
   "source": [
    "#create crosstab to analyze age by department\n",
    "cross_age_dep = pd.crosstab(df_2['department_id'], df_2['Profile_Age'], dropna = False)"
   ]
  },
  {
   "cell_type": "code",
   "execution_count": 66,
   "id": "fe2f32f9",
   "metadata": {
    "scrolled": true
   },
   "outputs": [
    {
     "data": {
      "image/png": "[encoded data removed]",
      "text/plain": [
       "<Figure size 640x480 with 1 Axes>"
      ]
     },
     "metadata": {},
     "output_type": "display_data"
    }
   ],
   "source": [
    "#visualize results\n",
    "bar_age_dep = cross_age_dep.plot.bar()"
   ]
  },
  {
   "cell_type": "markdown",
   "id": "b0a993d8",
   "metadata": {},
   "source": [
    "#### observations: purchasing trends are similar across departments for the various age groups of customers; older customers purchase disproportionately more deli (18), meat/seafood (12), personal care (11), dry goods/pasta (9) and international (6) goods than young customers (<35)."
   ]
  },
  {
   "cell_type": "code",
   "execution_count": 67,
   "id": "326148dc",
   "metadata": {},
   "outputs": [],
   "source": [
    "#create crosstab to analyze family status by department\n",
    "cross_family_dep = pd.crosstab(df_2['department_id'], df_2['Profile_Dependants'], dropna = False)"
   ]
  },
  {
   "cell_type": "code",
   "execution_count": 68,
   "id": "5ff41521",
   "metadata": {},
   "outputs": [
    {
     "data": {
      "image/png": "[encoded data removed]",
      "text/plain": [
       "<Figure size 640x480 with 1 Axes>"
      ]
     },
     "metadata": {},
     "output_type": "display_data"
    }
   ],
   "source": [
    "#visualize results\n",
    "bar_family_dep = cross_family_dep.plot.bar()"
   ]
  },
  {
   "cell_type": "markdown",
   "id": "f2c6eb11",
   "metadata": {},
   "source": [
    "#### observations: parents purchase disproportionately more items for babies (18), breakfast (14), and meat/seafood (12) than those customers with no kids. "
   ]
  },
  {
   "cell_type": "markdown",
   "id": "265d0d36",
   "metadata": {},
   "source": [
    "# Export Data & Visualizations"
   ]
  },
  {
   "cell_type": "code",
   "execution_count": 72,
   "id": "f49d59ad",
   "metadata": {},
   "outputs": [],
   "source": [
    "df_2.to_pickle(os.path.join(path, '02 Data','Prepared Data', 'orders_products_customers_frequent.pkl'))"
   ]
  },
  {
   "cell_type": "code",
   "execution_count": null,
   "id": "3864c24d",
   "metadata": {},
   "outputs": [],
   "source": [
    "#export visualization\n",
    "bar_inc_reg.figure.savefig(os.path.join(path, '04 Analysis', 'Visualizations', 'bar_inc_reg.png'))"
   ]
  },
  {
   "cell_type": "code",
   "execution_count": null,
   "id": "61cb6bc6",
   "metadata": {},
   "outputs": [],
   "source": [
    "#export visualization\n",
    "bar_age_reg.figure.savefig(os.path.join(path, '04 Analysis', 'Visualizations', 'bar_age_reg.png'))"
   ]
  },
  {
   "cell_type": "code",
   "execution_count": null,
   "id": "64107f9c",
   "metadata": {},
   "outputs": [],
   "source": [
    "#export visualization\n",
    "bar_dep_reg.figure.savefig(os.path.join(path, '04 Analysis', 'Visualizations', 'bar_dep_reg.png'))"
   ]
  },
  {
   "cell_type": "code",
   "execution_count": null,
   "id": "17814372",
   "metadata": {},
   "outputs": [],
   "source": [
    "#export visualization\n",
    "bar_fb_reg.figure.savefig(os.path.join(path, '04 Analysis', 'Visualizations', 'bar_fb_reg.png'))"
   ]
  },
  {
   "cell_type": "code",
   "execution_count": null,
   "id": "4b3d05ab",
   "metadata": {},
   "outputs": [],
   "source": [
    "#export visualization\n",
    "bar_inc_dep.figure.savefig(os.path.join(path, '04 Analysis', 'Visualizations', 'bar_inc_dep.png'))"
   ]
  },
  {
   "cell_type": "code",
   "execution_count": null,
   "id": "899351d1",
   "metadata": {},
   "outputs": [],
   "source": [
    "#export visualization\n",
    "bar_age_dep.figure.savefig(os.path.join(path, '04 Analysis', 'Visualizations', 'bar_age_dep.png'))"
   ]
  },
  {
   "cell_type": "code",
   "execution_count": null,
   "id": "ad03bfbc",
   "metadata": {},
   "outputs": [],
   "source": [
    "#export visualization\n",
    "bar_family_dep.figure.savefig(os.path.join(path, '04 Analysis', 'Visualizations', 'bar_family_dep.png'))"
   ]
  }
 ],
 "metadata": {
  "kernelspec": {
   "display_name": "Python 3 (ipykernel)",
   "language": "python",
   "name": "python3"
  },
  "language_info": {
   "codemirror_mode": {
    "name": "ipython",
    "version": 3
   },
   "file_extension": ".py",
   "mimetype": "text/x-python",
   "name": "python",
   "nbconvert_exporter": "python",
   "pygments_lexer": "ipython3",
   "version": "3.10.9"
  }
 },
 "nbformat": 4,
 "nbformat_minor": 5
}
