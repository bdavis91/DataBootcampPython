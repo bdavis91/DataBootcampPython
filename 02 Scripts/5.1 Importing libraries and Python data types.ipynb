{
 "cells": [
  {
   "cell_type": "markdown",
   "id": "a692c096",
   "metadata": {},
   "source": [
    "# \"0.1 Importing Libraries\""
   ]
  },
  {
   "cell_type": "code",
   "execution_count": 7,
   "id": "4c3721e0",
   "metadata": {},
   "outputs": [],
   "source": [
    "# import libraries\n",
    "import pandas as pd\n",
    "import numpy as np\n",
    "import os"
   ]
  },
  {
   "cell_type": "markdown",
   "id": "864c531d",
   "metadata": {},
   "source": [
    "## \"0.2 Data Types\""
   ]
  },
  {
   "cell_type": "code",
   "execution_count": 26,
   "id": "cf5bd0c0",
   "metadata": {},
   "outputs": [],
   "source": [
    "# three ways to get an output of 100\n",
    "x = 2\n",
    "y = 98"
   ]
  },
  {
   "cell_type": "code",
   "execution_count": 27,
   "id": "10aebb3c",
   "metadata": {},
   "outputs": [
    {
     "data": {
      "text/plain": [
       "100"
      ]
     },
     "execution_count": 27,
     "metadata": {},
     "output_type": "execute_result"
    }
   ],
   "source": [
    "x + y"
   ]
  },
  {
   "cell_type": "code",
   "execution_count": 30,
   "id": "71b231fa",
   "metadata": {},
   "outputs": [],
   "source": [
    "a = 149\n",
    "b = 20\n",
    "c = 29"
   ]
  },
  {
   "cell_type": "code",
   "execution_count": 31,
   "id": "904b2d50",
   "metadata": {},
   "outputs": [
    {
     "data": {
      "text/plain": [
       "100"
      ]
     },
     "execution_count": 31,
     "metadata": {},
     "output_type": "execute_result"
    }
   ],
   "source": [
    "a - b - c "
   ]
  },
  {
   "cell_type": "code",
   "execution_count": 32,
   "id": "20f8e31e",
   "metadata": {},
   "outputs": [],
   "source": [
    "m = 92 \n",
    "n = 8"
   ]
  },
  {
   "cell_type": "code",
   "execution_count": 33,
   "id": "68a061f8",
   "metadata": {},
   "outputs": [
    {
     "data": {
      "text/plain": [
       "100"
      ]
     },
     "execution_count": 33,
     "metadata": {},
     "output_type": "execute_result"
    }
   ],
   "source": [
    "m + n"
   ]
  },
  {
   "cell_type": "code",
   "execution_count": 35,
   "id": "9cdaa675",
   "metadata": {},
   "outputs": [],
   "source": [
    "# code two floating-point variables and divide them \n",
    "d = 509.87\n",
    "e = 1.3"
   ]
  },
  {
   "cell_type": "code",
   "execution_count": 36,
   "id": "222b8feb",
   "metadata": {},
   "outputs": [
    {
     "data": {
      "text/plain": [
       "392.2076923076923"
      ]
     },
     "execution_count": 36,
     "metadata": {},
     "output_type": "execute_result"
    }
   ],
   "source": [
    "d / e"
   ]
  },
  {
   "cell_type": "code",
   "execution_count": 37,
   "id": "7f4a0421",
   "metadata": {},
   "outputs": [],
   "source": [
    "# construct a short word made of separate strings"
   ]
  },
  {
   "cell_type": "code",
   "execution_count": 38,
   "id": "51887b2f",
   "metadata": {},
   "outputs": [],
   "source": [
    "g = 'skate'\n",
    "h = 'board'"
   ]
  },
  {
   "cell_type": "code",
   "execution_count": 39,
   "id": "5ca71d9d",
   "metadata": {},
   "outputs": [
    {
     "data": {
      "text/plain": [
       "'skateboard'"
      ]
     },
     "execution_count": 39,
     "metadata": {},
     "output_type": "execute_result"
    }
   ],
   "source": [
    "g + h"
   ]
  },
  {
   "cell_type": "code",
   "execution_count": 41,
   "id": "aca7f298",
   "metadata": {},
   "outputs": [],
   "source": [
    "# construct a short sentence made of separate strings \n",
    "p = 'the cat'\n",
    "q = ' sleeps atop'\n",
    "r = ' the shelf'"
   ]
  },
  {
   "cell_type": "code",
   "execution_count": 42,
   "id": "c99c2544",
   "metadata": {},
   "outputs": [
    {
     "data": {
      "text/plain": [
       "'the cat sleeps atop the shelf'"
      ]
     },
     "execution_count": 42,
     "metadata": {},
     "output_type": "execute_result"
    }
   ],
   "source": [
    "p + q + r"
   ]
  },
  {
   "cell_type": "code",
   "execution_count": null,
   "id": "03e3ec84",
   "metadata": {},
   "outputs": [],
   "source": []
  }
 ],
 "metadata": {
  "kernelspec": {
   "display_name": "Python 3 (ipykernel)",
   "language": "python",
   "name": "python3"
  },
  "language_info": {
   "codemirror_mode": {
    "name": "ipython",
    "version": 3
   },
   "file_extension": ".py",
   "mimetype": "text/x-python",
   "name": "python",
   "nbconvert_exporter": "python",
   "pygments_lexer": "ipython3",
   "version": "3.10.9"
  }
 },
 "nbformat": 4,
 "nbformat_minor": 5
}
