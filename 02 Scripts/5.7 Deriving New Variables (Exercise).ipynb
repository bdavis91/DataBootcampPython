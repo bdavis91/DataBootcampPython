{
 "cells": [
  {
   "cell_type": "markdown",
   "id": "6a2c952f",
   "metadata": {},
   "source": [
    "# Import Libraries and Data"
   ]
  },
  {
   "cell_type": "code",
   "execution_count": 1,
   "id": "c9ffe7d1",
   "metadata": {},
   "outputs": [],
   "source": [
    "# import libraries\n",
    "import pandas as pd\n",
    "import numpy as np\n",
    "import os"
   ]
  },
  {
   "cell_type": "code",
   "execution_count": 2,
   "id": "29d2118f",
   "metadata": {},
   "outputs": [],
   "source": [
    "# establish path to project folder\n",
    "path = r'C:\\Users\\BrianDavis\\OneDrive - abetterchicago.org\\Documents\\Data Analysis\\Achievement 5 (Python)\\04-2023 Instacart Basket Analysis'"
   ]
  },
  {
   "cell_type": "code",
   "execution_count": 3,
   "id": "9f25bdae",
   "metadata": {},
   "outputs": [],
   "source": [
    "# import \"orders_products_combined\" pkl file\n",
    "df_ords_prods_merged = pd.read_pickle(os.path.join(path,'02 Data','Prepared Data','orders_products_combined_final.pkl'))"
   ]
  },
  {
   "cell_type": "markdown",
   "id": "fb3e6fdf",
   "metadata": {},
   "source": [
    "# Manipulate Data (Exercise 5.7 Walk-through)"
   ]
  },
  {
   "cell_type": "code",
   "execution_count": 4,
   "id": "d357f970",
   "metadata": {},
   "outputs": [],
   "source": [
    "df = df_ords_prods_merged[:1000000]"
   ]
  },
  {
   "cell_type": "markdown",
   "id": "6499386c",
   "metadata": {},
   "source": [
    "### creating new variables"
   ]
  },
  {
   "cell_type": "code",
   "execution_count": 5,
   "id": "f78fb690",
   "metadata": {},
   "outputs": [],
   "source": [
    "#define new function to create price ranges\n",
    "\n",
    "def price_label(row):\n",
    "    if row['prices'] <= 5:\n",
    "        return 'Low-range product'\n",
    "    elif (row['prices'] >5) and (row['prices'] <= 15):\n",
    "        return 'Mid-range product'\n",
    "    elif row['prices'] > 15:\n",
    "        return 'High range'\n",
    "    else: return 'Not enough data'"
   ]
  },
  {
   "cell_type": "code",
   "execution_count": 6,
   "id": "c971df3a",
   "metadata": {},
   "outputs": [
    {
     "name": "stderr",
     "output_type": "stream",
     "text": [
      "C:\\Users\\BrianDavis\\AppData\\Local\\Temp\\ipykernel_33596\\2785964987.py:2: SettingWithCopyWarning: \n",
      "A value is trying to be set on a copy of a slice from a DataFrame.\n",
      "Try using .loc[row_indexer,col_indexer] = value instead\n",
      "\n",
      "See the caveats in the documentation: https://pandas.pydata.org/pandas-docs/stable/user_guide/indexing.html#returning-a-view-versus-a-copy\n",
      "  df['price_range'] = df.apply(price_label, axis = 1)\n"
     ]
    }
   ],
   "source": [
    "# apply price label range to dataframe\n",
    "df['price_range'] = df.apply(price_label, axis = 1)"
   ]
  },
  {
   "cell_type": "code",
   "execution_count": 7,
   "id": "0a4a7ec1",
   "metadata": {},
   "outputs": [
    {
     "data": {
      "text/plain": [
       "Mid-range product    756450\n",
       "Low-range product    243550\n",
       "Name: price_range, dtype: int64"
      ]
     },
     "execution_count": 7,
     "metadata": {},
     "output_type": "execute_result"
    }
   ],
   "source": [
    "#count values of price label ranges\n",
    "df['price_range'].value_counts(dropna = False)"
   ]
  },
  {
   "cell_type": "markdown",
   "id": "068b56e3",
   "metadata": {},
   "source": [
    "### creating new variables using loc functions"
   ]
  },
  {
   "cell_type": "code",
   "execution_count": 28,
   "id": "9a0f97f3",
   "metadata": {},
   "outputs": [],
   "source": [
    "#establish conditions\n",
    "df.loc[df['prices'] > 15, 'price_range_loc'] = 'High-range product'"
   ]
  },
  {
   "cell_type": "code",
   "execution_count": 9,
   "id": "4d02e5a0",
   "metadata": {},
   "outputs": [],
   "source": [
    "#establish conditions\n",
    "df.loc[(df['prices'] <= 15) & (df['prices'] > 5), 'price_range_loc'] = 'Mid-range product'"
   ]
  },
  {
   "cell_type": "code",
   "execution_count": 10,
   "id": "9ef9f88a",
   "metadata": {},
   "outputs": [],
   "source": [
    "#establish conditions\n",
    "df.loc[df['prices'] <= 5, 'price_range_loc'] = 'Low-range product'"
   ]
  },
  {
   "cell_type": "code",
   "execution_count": 11,
   "id": "f328ee30",
   "metadata": {},
   "outputs": [
    {
     "data": {
      "text/plain": [
       "Mid-range product    756450\n",
       "Low-range product    243550\n",
       "Name: price_range_loc, dtype: int64"
      ]
     },
     "execution_count": 11,
     "metadata": {},
     "output_type": "execute_result"
    }
   ],
   "source": [
    "df['price_range_loc'].value_counts(dropna = False)"
   ]
  },
  {
   "cell_type": "code",
   "execution_count": 12,
   "id": "114cb498",
   "metadata": {},
   "outputs": [],
   "source": [
    "# apply logic above to entire dataframe\n",
    "#establish conditions\n",
    "df_ords_prods_merged.loc[df_ords_prods_merged['prices'] > 15, 'price_range_loc'] = 'High-range product'"
   ]
  },
  {
   "cell_type": "code",
   "execution_count": 13,
   "id": "38d2b189",
   "metadata": {},
   "outputs": [],
   "source": [
    "#establish conditions\n",
    "df_ords_prods_merged.loc[(df_ords_prods_merged['prices'] <= 15) & (df_ords_prods_merged['prices'] > 5), 'price_range_loc'] = 'Mid-range product'"
   ]
  },
  {
   "cell_type": "code",
   "execution_count": 14,
   "id": "d74ca68f",
   "metadata": {},
   "outputs": [],
   "source": [
    "#establish conditions\n",
    "df_ords_prods_merged.loc[df_ords_prods_merged['prices'] < 5, 'price_range_loc'] = 'Low-range product'"
   ]
  },
  {
   "cell_type": "code",
   "execution_count": 15,
   "id": "2808b3da",
   "metadata": {},
   "outputs": [
    {
     "data": {
      "text/plain": [
       "Mid-range product     21861558\n",
       "Low-range product      9904846\n",
       "High-range product      412551\n",
       "Name: price_range_loc, dtype: int64"
      ]
     },
     "execution_count": 15,
     "metadata": {},
     "output_type": "execute_result"
    }
   ],
   "source": [
    "df_ords_prods_merged['price_range_loc'].value_counts()"
   ]
  },
  {
   "cell_type": "markdown",
   "id": "8a2e999c",
   "metadata": {},
   "source": [
    "### creating for-loops"
   ]
  },
  {
   "cell_type": "code",
   "execution_count": 16,
   "id": "946fea75",
   "metadata": {},
   "outputs": [
    {
     "data": {
      "text/plain": [
       "0    6204182\n",
       "1    5660230\n",
       "6    4496490\n",
       "2    4213830\n",
       "5    4205791\n",
       "3    3840534\n",
       "4    3783802\n",
       "Name: order_day_of_week, dtype: int64"
      ]
     },
     "execution_count": 16,
     "metadata": {},
     "output_type": "execute_result"
    }
   ],
   "source": [
    "# print frequency of the days most orders took place\n",
    "df_ords_prods_merged['order_day_of_week'].value_counts(dropna = False)"
   ]
  },
  {
   "cell_type": "code",
   "execution_count": 17,
   "id": "007bb155",
   "metadata": {},
   "outputs": [],
   "source": [
    "#create for-loop to classify days as busiest vs. least busy\n",
    "\n",
    "result = []\n",
    "\n",
    "for value in df_ords_prods_merged['order_day_of_week']:\n",
    "    if value == 0:\n",
    "        result.append(\"Busiest Day\")\n",
    "    elif value == 4:\n",
    "        result.append(\"Least busy\")\n",
    "    else:\n",
    "        result.append(\"Regularly busy\")"
   ]
  },
  {
   "cell_type": "code",
   "execution_count": 18,
   "id": "b025b126",
   "metadata": {},
   "outputs": [],
   "source": [
    "#merge results column from above into dataframe\n",
    "df_ords_prods_merged['busiest_day'] = result"
   ]
  },
  {
   "cell_type": "code",
   "execution_count": 19,
   "id": "a353a472",
   "metadata": {
    "scrolled": true
   },
   "outputs": [
    {
     "data": {
      "text/plain": [
       "Regularly busy    22416875\n",
       "Busiest Day        6204182\n",
       "Least busy         3783802\n",
       "Name: busiest_day, dtype: int64"
      ]
     },
     "execution_count": 19,
     "metadata": {},
     "output_type": "execute_result"
    }
   ],
   "source": [
    "df_ords_prods_merged['busiest_day'].value_counts(dropna = False)"
   ]
  },
  {
   "cell_type": "markdown",
   "id": "262f3d96",
   "metadata": {},
   "source": [
    "# Assignment 5.7"
   ]
  },
  {
   "cell_type": "markdown",
   "id": "a8e67428",
   "metadata": {},
   "source": [
    "### Step 2- Suppose your clients have changed their minds about the labels you created in your “busiest_day” column. Now, they want “Busiest day” to become “Busiest days” (plural). This label should correspond with the two busiest days of the week as opposed to the single busiest day. At the same time, they’d also like to know the two slowest days. Create a new column for this using a suitable method."
   ]
  },
  {
   "cell_type": "code",
   "execution_count": 20,
   "id": "4ea92eb6",
   "metadata": {},
   "outputs": [],
   "source": [
    "#create a new for-loop to classify the two busiest days and two slowest days\n",
    "\n",
    "result_2 = []\n",
    "\n",
    "for value in df_ords_prods_merged['order_day_of_week']:\n",
    "    if value in [0, 1]:\n",
    "        result_2.append('Busiest Days')\n",
    "    elif value in [3, 4]:\n",
    "        result_2.append('Slowest Days')\n",
    "    else:\n",
    "        result_2.append('Regularly Busy')\n"
   ]
  },
  {
   "cell_type": "code",
   "execution_count": 21,
   "id": "6cf162f4",
   "metadata": {},
   "outputs": [],
   "source": [
    "#merge the results from above into the dataframe\n",
    "\n",
    "df_ords_prods_merged['busiest_days'] = result_2"
   ]
  },
  {
   "cell_type": "markdown",
   "id": "0c3fcb54",
   "metadata": {},
   "source": [
    "### Step 3 - Check the values of this new column for accuracy. Note any observations in markdown format."
   ]
  },
  {
   "cell_type": "code",
   "execution_count": 22,
   "id": "dbb5e474",
   "metadata": {
    "scrolled": false
   },
   "outputs": [
    {
     "data": {
      "text/plain": [
       "Regularly Busy    12916111\n",
       "Busiest Days      11864412\n",
       "Slowest Days       7624336\n",
       "Name: busiest_days, dtype: int64"
      ]
     },
     "execution_count": 22,
     "metadata": {},
     "output_type": "execute_result"
    }
   ],
   "source": [
    "#count values of busiest days column\n",
    "df_ords_prods_merged['busiest_days'].value_counts(dropna = False)\n"
   ]
  },
  {
   "cell_type": "markdown",
   "id": "1be6fd6c",
   "metadata": {},
   "source": [
    "#### Observations: the number of regularly busy days predictably decreased, as only 3 days are classified as such (vs 5 above)"
   ]
  },
  {
   "cell_type": "markdown",
   "id": "71ccb675",
   "metadata": {},
   "source": [
    "### step 4 - When too many users make Instacart orders at the same time, the app freezes. The senior technical officer at Instacart wants you to identify the busiest hours of the day. Rather than by hour, they want periods of time labeled “Most orders,” “Average orders,” and “Fewest orders.” Create a new column containing these labels called “busiest_period_of_day.”"
   ]
  },
  {
   "cell_type": "code",
   "execution_count": 23,
   "id": "3aa9f330",
   "metadata": {
    "scrolled": true
   },
   "outputs": [
    {
     "data": {
      "text/plain": [
       "10    2761760\n",
       "11    2736140\n",
       "14    2689136\n",
       "15    2662144\n",
       "13    2660954\n",
       "12    2618532\n",
       "16    2535202\n",
       "9     2454203\n",
       "17    2087654\n",
       "8     1718118\n",
       "18    1636502\n",
       "19    1258305\n",
       "20     976156\n",
       "7      891054\n",
       "21     795637\n",
       "22     634225\n",
       "23     402316\n",
       "6      290493\n",
       "0      218769\n",
       "1      115700\n",
       "5       87961\n",
       "2       69375\n",
       "4       53242\n",
       "3       51281\n",
       "Name: order_hour_of_day, dtype: int64"
      ]
     },
     "execution_count": 23,
     "metadata": {},
     "output_type": "execute_result"
    }
   ],
   "source": [
    "#count values of \"order_hour_of_day\" column to determine busiest and least busy periods of time\n",
    "df_ords_prods_merged['order_hour_of_day'].value_counts(dropna = False)"
   ]
  },
  {
   "cell_type": "markdown",
   "id": "2480b91b",
   "metadata": {},
   "source": [
    "#### Observations: the top-five busiest hours of the day are 10am, 11am, 2pm, 3pm and 1pm; the top-five least busy hours of the day are 1am, 5am, 2am, 4am, 3am"
   ]
  },
  {
   "cell_type": "code",
   "execution_count": 24,
   "id": "6f5cdea5",
   "metadata": {},
   "outputs": [],
   "source": [
    "#create a for-loop to classify the busiest periods of the day\n",
    "\n",
    "result_3 = []\n",
    "\n",
    "for values in df_ords_prods_merged['order_hour_of_day']:\n",
    "    if values in [10, 11, 14, 15, 13]:\n",
    "        result_3.append('Most Orders')\n",
    "    elif values in [1, 5, 2, 4, 3]:\n",
    "        result_3.append('Fewest Orders')\n",
    "    else:\n",
    "        result_3.append('Average Orders')"
   ]
  },
  {
   "cell_type": "code",
   "execution_count": 25,
   "id": "3c911439",
   "metadata": {},
   "outputs": [],
   "source": [
    "#merge the results from above into the dataframe\n",
    "df_ords_prods_merged['busiest_periods'] = result_3"
   ]
  },
  {
   "cell_type": "markdown",
   "id": "420f6cea",
   "metadata": {},
   "source": [
    "### step 5 - Print the frequency for this new column."
   ]
  },
  {
   "cell_type": "code",
   "execution_count": 26,
   "id": "23afcde8",
   "metadata": {
    "scrolled": false
   },
   "outputs": [
    {
     "data": {
      "text/plain": [
       "Average Orders    18517166\n",
       "Most Orders       13510134\n",
       "Fewest Orders       377559\n",
       "Name: busiest_periods, dtype: int64"
      ]
     },
     "execution_count": 26,
     "metadata": {},
     "output_type": "execute_result"
    }
   ],
   "source": [
    "df_ords_prods_merged['busiest_periods'].value_counts()"
   ]
  },
  {
   "cell_type": "markdown",
   "id": "027acf6e",
   "metadata": {},
   "source": [
    "#### Observations: \"Average Orders\" was the most common entry, with over 1.85m, followed by Most Orders with 1.35m and Fewest Orders with just 375k"
   ]
  },
  {
   "cell_type": "markdown",
   "id": "d284a4fa",
   "metadata": {},
   "source": [
    "# Export Data"
   ]
  },
  {
   "cell_type": "code",
   "execution_count": 27,
   "id": "6f5b981a",
   "metadata": {},
   "outputs": [],
   "source": [
    "df_ords_prods_merged.to_pickle(os.path.join(path, '02 Data','Prepared Data', 'orders_products_combined_final_new_variables.pkl'))"
   ]
  }
 ],
 "metadata": {
  "kernelspec": {
   "display_name": "Python 3 (ipykernel)",
   "language": "python",
   "name": "python3"
  },
  "language_info": {
   "codemirror_mode": {
    "name": "ipython",
    "version": 3
   },
   "file_extension": ".py",
   "mimetype": "text/x-python",
   "name": "python",
   "nbconvert_exporter": "python",
   "pygments_lexer": "ipython3",
   "version": "3.10.9"
  }
 },
 "nbformat": 4,
 "nbformat_minor": 5
}
